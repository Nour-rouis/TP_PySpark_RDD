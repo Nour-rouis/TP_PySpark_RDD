{
  "cells": [
    {
      "cell_type": "code",
      "execution_count": null,
      "id": "cc0dd02f-3c9d-4d83-88c3-a111f1f141ff",
      "metadata": {
        "id": "cc0dd02f-3c9d-4d83-88c3-a111f1f141ff"
      },
      "outputs": [],
      "source": [
        "#commencer ici avec jupyter\n",
        "# Initialisation du SparkContext\n",
        "from pyspark import SparkContext\n",
        "from pyspark.sql import SparkSession\n",
        "\n",
        "spark = SparkSession\\\n",
        "        .builder\\\n",
        "        .master('local[*]')\\\n",
        "        .getOrCreate()\n",
        "sc = spark.sparkContext"
      ]
    },
    {
      "cell_type": "code",
      "execution_count": null,
      "id": "f19e552b-d7a7-46be-a418-c23d8fc09420",
      "metadata": {
        "id": "f19e552b-d7a7-46be-a418-c23d8fc09420"
      },
      "outputs": [],
      "source": [
        "#création de la fonction parseRatings\n",
        "def parseRatings(row):\n",
        "    splitted = row.split(\"::\")\n",
        "    return (int(splitted[0]), int(splitted[1]), int(splitted[2]), splitted[3])"
      ]
    },
    {
      "cell_type": "code",
      "execution_count": null,
      "id": "b1d0a2e3-d67c-44a0-971a-72095cf16472",
      "metadata": {
        "id": "b1d0a2e3-d67c-44a0-971a-72095cf16472"
      },
      "outputs": [],
      "source": [
        "# 1. Créer le RDD « ratings » à partir du fichier « ratings.dat » et le mettre en cache.\n",
        "ratings_rdd = sc.textFile(\"movieLens/ratings.dat\").map(parseRatings).cache()"
      ]
    },
    {
      "cell_type": "code",
      "execution_count": null,
      "id": "3744bd80-9336-4c9a-92d1-2725fff616f5",
      "metadata": {
        "id": "3744bd80-9336-4c9a-92d1-2725fff616f5"
      },
      "outputs": [],
      "source": [
        "# 1. Créer le RDD « ratings » à partir du fichier « ratings.dat » et le mettre en cache.\n",
        "# (sans utilisation de fonction)\n",
        "ratings_rdd2 = sc.textFile(\"movieLens/ratings.dat\").map(lambda row: row.split(\"::\")) \\\n",
        "    .map(lambda splitted: (int(splitted[0]), int(splitted[1]), int(splitted[2]), splitted[3])) \\\n",
        "    .cache()\n"
      ]
    },
    {
      "cell_type": "code",
      "execution_count": null,
      "id": "e99d336c-ce95-442b-b1cd-b44284a79f59",
      "metadata": {
        "id": "e99d336c-ce95-442b-b1cd-b44284a79f59",
        "outputId": "aefcbf3d-2242-4b39-ce34-5eac138083e0"
      },
      "outputs": [
        {
          "data": {
            "text/plain": [
              "1000209"
            ]
          },
          "execution_count": 5,
          "metadata": {},
          "output_type": "execute_result"
        }
      ],
      "source": [
        "ratings_rdd.count()\n"
      ]
    },
    {
      "cell_type": "code",
      "execution_count": null,
      "id": "84bd4dcf-c877-4f35-86b5-1b715a60d9a7",
      "metadata": {
        "id": "84bd4dcf-c877-4f35-86b5-1b715a60d9a7",
        "outputId": "13627f69-ac9c-43e3-ec39-f13f9fbce875"
      },
      "outputs": [
        {
          "name": "stdout",
          "output_type": "stream",
          "text": [
            "Le nombre de fois où la note 1 a été attribuée est : 56174\n"
          ]
        }
      ],
      "source": [
        "# 2. Combien de fois la note 1 a été attribuée ?\n",
        "count_rating_1 = ratings_rdd.filter(lambda x: x[2] == 1).count()\n",
        "print(\"Le nombre de fois où la note 1 a été attribuée est :\", count_rating_1)"
      ]
    },
    {
      "cell_type": "code",
      "execution_count": null,
      "id": "688361e8-6d9f-4ef8-a8df-ad1b82be8882",
      "metadata": {
        "id": "688361e8-6d9f-4ef8-a8df-ad1b82be8882",
        "outputId": "eaaace4a-e75d-44d3-cc68-3f36ec7a613d"
      },
      "outputs": [
        {
          "data": {
            "text/plain": [
              "[(1, 1193, 5, '978300760'),\n",
              " (1, 661, 3, '978302109'),\n",
              " (1, 914, 3, '978301968'),\n",
              " (1, 3408, 4, '978300275'),\n",
              " (1, 2355, 5, '978824291')]"
            ]
          },
          "execution_count": 8,
          "metadata": {},
          "output_type": "execute_result"
        }
      ],
      "source": [
        "ratings_rdd.take(5)"
      ]
    },
    {
      "cell_type": "code",
      "execution_count": null,
      "id": "572cd2ec-b2d5-4356-b991-26090a73ce16",
      "metadata": {
        "id": "572cd2ec-b2d5-4356-b991-26090a73ce16",
        "outputId": "8b02739b-0e2f-475d-bdbd-f3bd4452e597"
      },
      "outputs": [
        {
          "name": "stdout",
          "output_type": "stream",
          "text": [
            "Le nombre de films qui ont été notés est : 3706\n"
          ]
        }
      ],
      "source": [
        "# 3. Donner le nombre de films qui ont été notés (sans doublons).\n",
        "unique_movies_rated = ratings_rdd.map(lambda x: x[1]).distinct().count()\n",
        "print(\"Le nombre de films qui ont été notés est :\", unique_movies_rated)"
      ]
    },
    {
      "cell_type": "code",
      "execution_count": null,
      "id": "a485953e-859f-41e4-9d93-a7b9c0483813",
      "metadata": {
        "id": "a485953e-859f-41e4-9d93-a7b9c0483813",
        "outputId": "febf5ccc-e853-48a5-8345-bfd11c53fa2e"
      },
      "outputs": [
        {
          "name": "stdout",
          "output_type": "stream",
          "text": [
            "L'utilisateur ayant donné le plus de notes est UserID: 4169 avec 2314 notes.\n"
          ]
        }
      ],
      "source": [
        "# 4. Quel est l’utilisateur qui a donné le plus de notes. Donner le userID et le nombre de ses notes.\n",
        "user_most_ratings = ratings_rdd.map(lambda x: (x[0], 1)).reduceByKey(lambda a, b: a + b).max(key=lambda x: x[1])\n",
        "#user_most_ratings = ratings_rdd.map(lambda x: (x[0], 1)).reduceByKey(lambda a, b: a + b).max(lambda x: x[1])\n",
        "print(\"L'utilisateur ayant donné le plus de notes est UserID:\", user_most_ratings[0], \"avec\", user_most_ratings[1], \"notes.\")\n"
      ]
    },
    {
      "cell_type": "code",
      "execution_count": null,
      "id": "2d5c7377-fafa-4afa-aecf-d312fdcb355c",
      "metadata": {
        "id": "2d5c7377-fafa-4afa-aecf-d312fdcb355c"
      },
      "outputs": [],
      "source": [
        "#5. Charger les fichiers movies.dat et users.dat et créer les RDD correspondants\n",
        "movies_rdd = sc.textFile(\"movieLens/movies.dat\").map(lambda row: row.split(\"::\")).map(lambda splitted: (int(splitted[0]), splitted[1], splitted[2]))\n",
        "users_rdd = sc.textFile(\"movieLens/users.dat\").map(lambda row: row.split(\"::\")).map(lambda splitted: (int(splitted[0]), splitted[1], int(splitted[2]), splitted[3], splitted[4]))\n",
        "# 1. Créer le RDD « ratings » à partir du fichier « ratings.dat » et le mettre en cache.\n",
        "#ratings_rdd = sc.textFile(\"movieLens/ratings.dat\").map(parseRatings).cache()\n"
      ]
    },
    {
      "cell_type": "code",
      "execution_count": null,
      "id": "9745ad9e-1b70-4985-852b-b7a4cf62fb81",
      "metadata": {
        "id": "9745ad9e-1b70-4985-852b-b7a4cf62fb81",
        "outputId": "4aa2c460-ed3d-4ed7-f110-e80294bc0835"
      },
      "outputs": [
        {
          "name": "stdout",
          "output_type": "stream",
          "text": [
            "Liste des genres triée et sans doublons : ['Action', 'Adventure', 'Animation', \"Children's\", 'Comedy', 'Crime', 'Documentary', 'Drama', 'Fantasy', 'Film-Noir', 'Horror', 'Musical', 'Mystery', 'Romance', 'Sci-Fi', 'Thriller', 'War', 'Western']\n"
          ]
        }
      ],
      "source": [
        "# 6. Donner la liste des genres triée et sans doublons.\n",
        "distinct_genres = movies_rdd.flatMap(lambda x: x[2].split(\"|\"))\\\n",
        "                                                    .distinct()\\\n",
        "                                                    .sortBy(lambda x: x)\\\n",
        "                                                    .collect()\n",
        "print(\"Liste des genres triée et sans doublons :\", distinct_genres)\n",
        "\n",
        "\n"
      ]
    },
    {
      "cell_type": "code",
      "execution_count": null,
      "id": "9c5d17a0-18de-4605-becd-f93407911913",
      "metadata": {
        "id": "9c5d17a0-18de-4605-becd-f93407911913",
        "outputId": "d9f2c56d-f654-46e6-d13c-aafc8105ec03"
      },
      "outputs": [
        {
          "name": "stdout",
          "output_type": "stream",
          "text": [
            "Nombre de films de chaque genre : [(\"Children's\", 251), ('Fantasy', 68), ('Romance', 471), ('Drama', 1603), ('Action', 503), ('Thriller', 492), ('Horror', 343), ('Sci-Fi', 276), ('Documentary', 127), ('Musical', 114), ('Western', 68), ('Animation', 105), ('Comedy', 1200), ('Adventure', 283), ('Crime', 211), ('War', 143), ('Mystery', 106), ('Film-Noir', 44)]\n"
          ]
        }
      ],
      "source": [
        "# 7. Donner le nombre de films de chaque genre.\n",
        "movies_by_genre = movies_rdd.flatMap(lambda x: x[2].split(\"|\"))\\\n",
        "                            .map(lambda genre: (genre, 1))\\\n",
        "                            .reduceByKey(lambda a, b: a + b)\\\n",
        "                            .collect()\n",
        "print(\"Nombre de films de chaque genre :\", movies_by_genre)\n"
      ]
    },
    {
      "cell_type": "code",
      "execution_count": null,
      "id": "767283ec-71ee-46dc-b7da-574f749c7352",
      "metadata": {
        "id": "767283ec-71ee-46dc-b7da-574f749c7352"
      },
      "outputs": [],
      "source": [
        "#8. Genres des films bien appréciés (note >= 4) par les hommes ayant un âge supérieur à 45\n",
        "# Créer un RDD pour les films bien appréciés (note >= 4)\n",
        "most_liked_movies_rdd = ratings_rdd.filter(lambda x: x[2]>= 4).map(lambda x: (x[0],x[1]))\n",
        "# Créer un RDD pour les hommes matures\n",
        "male45_users_rdd = users_rdd.filter(lambda x: x[1] == \"M\" and x[2] > 45).map(lambda x: (x[0],1))\n",
        "# Joindre les deux RDD\n",
        "joined_rdd = most_liked_movies_rdd.join(male45_users_rdd)\n",
        "#joined_rdd.take(5)\n",
        "#extraire les genrs des ces fillms bien aimées\n",
        "genres_rdd = joined_rdd.map(lambda x: (x[1][0], x[1][1]))\\\n",
        "                      .join(movies_rdd.map(lambda x: (x[0], x[2])))\\\n",
        "                      .flatMap(lambda x: x[1][1].split(\"|\"))\\\n",
        "                      .distinct()\\\n",
        "                      .sortBy(lambda x: x)\n",
        "# Afficher les 20 premiers genres\n",
        "print(genres_rdd.take(20))\n"
      ]
    },
    {
      "cell_type": "code",
      "execution_count": null,
      "id": "d1b86926-ab05-41a4-8222-bc393185eb08",
      "metadata": {
        "id": "d1b86926-ab05-41a4-8222-bc393185eb08"
      },
      "outputs": [],
      "source": [
        "male45_users_rdd = users_rdd.filter(lambda x: x[1] == \"M\" and x[2] > 45)\n",
        "male45_users_rdd.take(10)"
      ]
    },
    {
      "cell_type": "code",
      "execution_count": null,
      "id": "bf0e4f7e-4f5c-457e-ad06-e4a845dbbaaf",
      "metadata": {
        "id": "bf0e4f7e-4f5c-457e-ad06-e4a845dbbaaf"
      },
      "outputs": [],
      "source": [
        "#9.Donner pour chaque année le genre le plus populaire des films\n",
        "most_popular_genre_by_year = movies_rdd.map(lambda row: (row[1][-5:-1], row[2].split(\"|\"))) \\\n",
        "    .flatMap(lambda x: map(lambda z: (x[0], z), x[1])) \\\n",
        "    .map(lambda x: ((x[0], x[1]), 1)) \\\n",
        "    .reduceByKey(lambda a, b: a + b) \\\n",
        "    .map(lambda x: (x[0][0], (x[0][1], x[1]))) \\\n",
        "    .reduceByKey(lambda a, b: a if a[1] > b[1] else b) \\\n",
        "    .map(lambda x: (x[0], x[1][0])) \\\n",
        "    .sortBy(lambda x: x[0], ascending=False)\n",
        "\n",
        "for result in most_popular_genre_by_year.collect():\n",
        "    print(result)"
      ]
    },
    {
      "cell_type": "code",
      "execution_count": null,
      "id": "1b84a268-d53d-4fc5-8f6e-1cfc6aa6f580",
      "metadata": {
        "id": "1b84a268-d53d-4fc5-8f6e-1cfc6aa6f580",
        "outputId": "a9762078-4411-409e-d5cc-cd06f90b9726"
      },
      "outputs": [
        {
          "name": "stdout",
          "output_type": "stream",
          "text": [
            "Fréquence de chaque note pour les utilisateurs de moins de 18 ans : [(4, 8808), (5, 6802), (1, 2238), (2, 2983), (3, 6380)]\n"
          ]
        }
      ],
      "source": [
        "# 10. Pour les utilisateurs de moins de 18 ans (catégorie 1), quelle est la fréquence de chaque note ?\n",
        "ratings_users_under_18 = ratings_rdd.map(lambda x: (x[0], x[2]))\\\n",
        "                                    .join(users_rdd.map(lambda x: (x[0], x[2])))\\\n",
        "                                    .filter(lambda x: x[1][1] < 18)\\\n",
        "                                    .map(lambda x: (x[1][0], 1))\\\n",
        "                                    .reduceByKey(lambda a, b: a + b)\\\n",
        "                                    .collect()\n",
        "print(\"Fréquence de chaque note pour les utilisateurs de moins de 18 ans :\", ratings_users_under_18)"
      ]
    }
  ],
  "metadata": {
    "kernelspec": {
      "display_name": "Python 3 (ipykernel)",
      "language": "python",
      "name": "python3"
    },
    "language_info": {
      "codemirror_mode": {
        "name": "ipython",
        "version": 3
      },
      "file_extension": ".py",
      "mimetype": "text/x-python",
      "name": "python",
      "nbconvert_exporter": "python",
      "pygments_lexer": "ipython3",
      "version": "3.10.13"
    },
    "colab": {
      "provenance": []
    }
  },
  "nbformat": 4,
  "nbformat_minor": 5
}